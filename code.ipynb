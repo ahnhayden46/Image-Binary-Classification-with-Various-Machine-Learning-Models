{
  "nbformat": 4,
  "nbformat_minor": 0,
  "metadata": {
    "colab": {
      "name": "FoML_code.ipynb",
      "provenance": [],
      "collapsed_sections": []
    },
    "kernelspec": {
      "name": "python3",
      "display_name": "Python 3"
    },
    "language_info": {
      "name": "python"
    }
  },
  "cells": [
    {
      "cell_type": "markdown",
      "metadata": {
        "id": "Koamv3iSzhmB"
      },
      "source": [
        "# Importing Libraries"
      ]
    },
    {
      "cell_type": "code",
      "metadata": {
        "id": "wqYrskCFzlrO"
      },
      "source": [
        "# Importing libraries\n",
        "import pandas as pd\n",
        "import numpy as np\n",
        "from sklearn.impute import KNNImputer\n",
        "from sklearn import preprocessing\n",
        "from sklearn.decomposition import PCA\n",
        "from sklearn.model_selection import cross_val_score\n",
        "from sklearn.neural_network import MLPClassifier\n",
        "from sklearn.svm import SVC\n",
        "from sklearn.ensemble import RandomForestClassifier\n",
        "from sklearn.linear_model import LogisticRegression"
      ],
      "execution_count": 1,
      "outputs": []
    },
    {
      "cell_type": "markdown",
      "metadata": {
        "id": "WGyPGTRyzaxG"
      },
      "source": [
        "# Loading Data"
      ]
    },
    {
      "cell_type": "code",
      "metadata": {
        "id": "Iola5wRezeVj"
      },
      "source": [
        "# Reading the csv files and turn them into arrays\n",
        "training1 = pd.read_csv('training1.csv')\n",
        "training2 = pd.read_csv('training2.csv')\n",
        "test = pd.read_csv('test.csv')\n",
        "train1 = training1.values\n",
        "train2 = training2.values\n",
        "test = test.values"
      ],
      "execution_count": 7,
      "outputs": []
    },
    {
      "cell_type": "code",
      "metadata": {
        "id": "yKOAN7YFzsXk"
      },
      "source": [
        "# Divide the data into cnn features, gist features and labels\n",
        "train1_cnn = np.zeros((len(train1), 4096))\n",
        "train1_gist = np.zeros((len(train1), 512))\n",
        "train1_labels = np.zeros(len(train1))\n",
        "for i in range(len(train1)):\n",
        "  train1_cnn[i,:] = train1[i,:4096]\n",
        "  train1_gist[i,:] = train1[i,4096:4608]\n",
        "  train1_labels[i] = train1[i, 4608]\n",
        "\n",
        "train2_cnn = np.zeros((len(train2), 4096))\n",
        "train2_gist = np.zeros((len(train2), 512))\n",
        "train2_labels = np.zeros(len(train2))\n",
        "for i in range(len(train2)):\n",
        "  train2_cnn[i,:] = train2[i,:4096]\n",
        "  train2_gist[i,:] = train2[i,4096:4608]\n",
        "  train2_labels[i] = train2[i, 4608]\n",
        "\n",
        "test_cnn = np.zeros((len(test), 4096))\n",
        "test_gist = np.zeros((len(test), 512))\n",
        "for i in range(len(test)):\n",
        "  test_cnn[i,:] = test[i,:4096]\n",
        "  test_gist[i,:] = test[i,4096:4608]\n",
        "\n",
        "train_labels = np.concatenate((train1_labels, train2_labels), axis=0)"
      ],
      "execution_count": 8,
      "outputs": []
    },
    {
      "cell_type": "markdown",
      "metadata": {
        "id": "m2-y0oePz-ER"
      },
      "source": [
        "# Data Imputation"
      ]
    },
    {
      "cell_type": "code",
      "metadata": {
        "id": "-JynQe4J0Aeg"
      },
      "source": [
        "# Imputing the missing values by using a KNN imputer\n",
        "imp = KNNImputer(n_neighbors=2, weights=\"uniform\")\n",
        "train2_cnn_filled = imp.fit_transform(train2_cnn)\n",
        "train2_gist_filled = imp.fit_transform(train2_gist)"
      ],
      "execution_count": 9,
      "outputs": []
    },
    {
      "cell_type": "code",
      "metadata": {
        "id": "mGSFTkn3YIi4"
      },
      "source": [
        "test_cnn_filled = imp.fit_transform(test_cnn)\n",
        "test_gist_filled = imp.fit_transform(test_gist)"
      ],
      "execution_count": 10,
      "outputs": []
    },
    {
      "cell_type": "code",
      "metadata": {
        "id": "21OCdRROQKtz"
      },
      "source": [
        "train2_cnn_filled.shape"
      ],
      "execution_count": null,
      "outputs": []
    },
    {
      "cell_type": "markdown",
      "metadata": {
        "id": "40xI-5ni0Lnt"
      },
      "source": [
        "# Data Rescaling\n"
      ]
    },
    {
      "cell_type": "code",
      "metadata": {
        "id": "h8eHSrdl0PoL"
      },
      "source": [
        "# Rescaling the data to perform dimensionality reduction\n",
        "scaler = preprocessing.StandardScaler()\n",
        "\n",
        "train1_cnn_scaled = scaler.fit_transform(train1_cnn)\n",
        "train1_gist_scaled = scaler.fit_transform(train1_gist)\n",
        "\n",
        "train2_cnn_scaled = scaler.fit_transform(train2_cnn_filled)\n",
        "train2_gist_scaled = scaler.fit_transform(train2_gist_filled)\n",
        "\n",
        "test_cnn_scaled = scaler.fit_transform(test_cnn_filled)\n",
        "test_gist_scaled = scaler.fit_transform(test_gist_filled)"
      ],
      "execution_count": 11,
      "outputs": []
    },
    {
      "cell_type": "markdown",
      "metadata": {
        "id": "c0mN-hDv2Ilm"
      },
      "source": [
        "# Dimensionality Reduction"
      ]
    },
    {
      "cell_type": "code",
      "metadata": {
        "id": "Pl8-R67V2NQs"
      },
      "source": [
        "# Reducing the high dimentionalities using PCA\n",
        "pca = PCA(n_components=100)\n",
        "train1_cnn_reduced = pca.fit_transform(train1_cnn_scaled)\n",
        "train2_cnn_reduced = pca.fit_transform(train2_cnn_scaled)\n",
        "test_cnn_reduced = pca.fit_transform(test_cnn_scaled)\n",
        "\n",
        "pca = PCA(n_components=20)\n",
        "train1_gist_reduced = pca.fit_transform(train1_gist_scaled)\n",
        "train2_gist_reduced = pca.fit_transform(train2_gist_scaled)\n",
        "test_gist_reduced = pca.fit_transform(test_gist_scaled)"
      ],
      "execution_count": 12,
      "outputs": []
    },
    {
      "cell_type": "markdown",
      "metadata": {
        "id": "OD5Z8lSX3iJg"
      },
      "source": [
        "# Data Preparation"
      ]
    },
    {
      "cell_type": "code",
      "metadata": {
        "id": "Q7gxHQqn3kzm"
      },
      "source": [
        "# Combining the CNN features and gist features from two training sets into one for training\n",
        "train1_x = np.concatenate((train1_cnn_reduced, train1_gist_reduced), axis=1)\n",
        "train2_x = np.concatenate((train2_cnn_reduced, train2_gist_reduced), axis=1)\n",
        "\n",
        "# Combine the test data as well to make predictions\n",
        "test_x = np.concatenate((test_cnn_reduced, test_gist_reduced), axis=1)"
      ],
      "execution_count": 13,
      "outputs": []
    },
    {
      "cell_type": "code",
      "metadata": {
        "id": "2IMz7j1x6cfx"
      },
      "source": [
        "train_x = np.concatenate((train1_x, train2_x), axis=0)"
      ],
      "execution_count": 14,
      "outputs": []
    },
    {
      "cell_type": "code",
      "metadata": {
        "id": "Eh84Ko-gCZQM"
      },
      "source": [
        "test_x.shape"
      ],
      "execution_count": null,
      "outputs": []
    },
    {
      "cell_type": "markdown",
      "metadata": {
        "id": "itm7lDYY3-TW"
      },
      "source": [
        "#  Training & Validation"
      ]
    },
    {
      "cell_type": "code",
      "metadata": {
        "colab": {
          "base_uri": "https://localhost:8080/",
          "height": 312
        },
        "id": "pi3GcltXxZIW",
        "outputId": "a367220e-8e2f-4df3-b824-c9163b498b62"
      },
      "source": [
        "# Trying different C parameters on Support Vector Machine\n",
        "svm1 = SVC(kernel='rbf', C=0.01)\n",
        "svm_scores1 = cross_val_score(svm1, train_x, train_labels, cv=10)\n",
        "\n",
        "svm2 = SVC(kernel='rbf', C=0.5)\n",
        "svm_scores2 = cross_val_score(svm2, train_x, train_labels, cv=10)\n",
        "\n",
        "svm3 = SVC(kernel='rbf', C=1)\n",
        "svm_scores3 = cross_val_score(svm3, train_x, train_labels, cv=10)\n",
        "\n",
        "svm4 = SVC(kernel='rbf', C=5)\n",
        "svm_scores4 = cross_val_score(svm4, train_x, train_labels, cv=10)\n",
        "\n",
        "svm5 = SVC(kernel='rbf', C=10)\n",
        "svm_scores5 = cross_val_score(svm5, train_x, train_labels, cv=10)\n",
        "\n",
        "# Plotting the results using boxplot\n",
        "data_svm = np.array([svm_scores1, svm_scores2, svm_scores3, svm_scores4, svm_scores5])\n",
        "data_svm = data_svm.T\n",
        "df = pd.DataFrame(data_svm, columns=['0.01', '0.5', '1', '5', '10'])\n",
        "ax = df.plot.box(title='Accuracies of the SVM model with Different C values', showmeans=True)\n",
        "ax.set_xlabel('C values')\n",
        "ax.set_ylabel('Accuracies')"
      ],
      "execution_count": 62,
      "outputs": [
        {
          "output_type": "execute_result",
          "data": {
            "text/plain": [
              "Text(0, 0.5, 'Accuracies')"
            ]
          },
          "metadata": {
            "tags": []
          },
          "execution_count": 62
        },
        {
          "output_type": "display_data",
          "data": {
            "image/png": "[encoded data removed]",
            "text/plain": [
              "<Figure size 432x288 with 1 Axes>"
            ]
          },
          "metadata": {
            "tags": [],
            "needs_background": "light"
          }
        }
      ]
    },
    {
      "cell_type": "code",
      "metadata": {
        "colab": {
          "base_uri": "https://localhost:8080/",
          "height": 312
        },
        "id": "epZLymTrx_kz",
        "outputId": "cded70bf-8d89-4069-c0de-031af34146c0"
      },
      "source": [
        "# Trying different max_iter values on Multi-layer Perceptron\n",
        "mlp1 = MLPClassifier(random_state=0, max_iter=100)\n",
        "mlp_scores1 = cross_val_score(mlp1, train_x, train_labels, cv=10)\n",
        "\n",
        "mlp2 = MLPClassifier(random_state=0, max_iter=300)\n",
        "mlp_scores2 = cross_val_score(mlp2, train_x, train_labels, cv=10)\n",
        "\n",
        "mlp3 = MLPClassifier(random_state=0, max_iter=500)\n",
        "mlp_scores3 = cross_val_score(mlp3, train_x, train_labels, cv=10)\n",
        "\n",
        "mlp4 = MLPClassifier(random_state=0, max_iter=700)\n",
        "mlp_scores4 = cross_val_score(mlp4, train_x, train_labels, cv=10)\n",
        "\n",
        "mlp5 = MLPClassifier(random_state=0, max_iter=1000)\n",
        "mlp_scores5 = cross_val_score(mlp5, train_x, train_labels, cv=10)\n",
        "\n",
        "data_mlp = np.array([mlp_scores1, mlp_scores2, mlp_scores3, mlp_scores4, mlp_scores5])\n",
        "data_mlp = data_mlp.T\n",
        "df = pd.DataFrame(data_mlp, columns=['100', '300', '500', '700', '1000'])\n",
        "ax = df.plot.box(title='Accuracies of the MLP model with Different Max-iter values', showmeans=True)\n",
        "ax.set_xlabel('Max-iter values')\n",
        "ax.set_ylabel('Accuracies')"
      ],
      "execution_count": 64,
      "outputs": [
        {
          "output_type": "execute_result",
          "data": {
            "text/plain": [
              "Text(0, 0.5, 'Accuracies')"
            ]
          },
          "metadata": {
            "tags": []
          },
          "execution_count": 64
        },
        {
          "output_type": "display_data",
          "data": {
            "image/png": "[encoded data removed]",
            "text/plain": [
              "<Figure size 432x288 with 1 Axes>"
            ]
          },
          "metadata": {
            "tags": [],
            "needs_background": "light"
          }
        }
      ]
    },
    {
      "cell_type": "code",
      "metadata": {
        "colab": {
          "base_uri": "https://localhost:8080/",
          "height": 312
        },
        "id": "LcIRN5MtyFEk",
        "outputId": "08e46d92-7673-43a0-fd70-b367dbd0b193"
      },
      "source": [
        "# Trying different max_depth values on Random Forest\n",
        "rf1 = RandomForestClassifier(max_depth=6, random_state=0)\n",
        "rf_scores1 = cross_val_score(rf1, train_x, train_labels, cv=10)\n",
        "\n",
        "rf2 = RandomForestClassifier(max_depth=10, random_state=0)\n",
        "rf_scores2 = cross_val_score(rf2, train_x, train_labels, cv=10)\n",
        "\n",
        "rf3 = RandomForestClassifier(max_depth=16, random_state=0)\n",
        "rf_scores3 = cross_val_score(rf3, train_x, train_labels, cv=10)\n",
        "\n",
        "rf4 = RandomForestClassifier(max_depth=24, random_state=0)\n",
        "rf_scores4 = cross_val_score(rf4, train_x, train_labels, cv=10)\n",
        "\n",
        "rf5 = RandomForestClassifier(max_depth=32, random_state=0)\n",
        "rf_scores5 = cross_val_score(rf5, train_x, train_labels, cv=10)\n",
        "\n",
        "data_rf = np.array([rf_scores1, rf_scores2, rf_scores3, rf_scores4, rf_scores5])\n",
        "data_rf = data_rf.T\n",
        "df = pd.DataFrame(data_rf, columns=['6', '10', '16', '24', '32'])\n",
        "ax = df.plot.box(title='Accuracies of the RF model with Different Max-depth values', showmeans=True)\n",
        "ax.set_xlabel('Max-depth values')\n",
        "ax.set_ylabel('Accuracies')"
      ],
      "execution_count": 65,
      "outputs": [
        {
          "output_type": "execute_result",
          "data": {
            "text/plain": [
              "Text(0, 0.5, 'Accuracies')"
            ]
          },
          "metadata": {
            "tags": []
          },
          "execution_count": 65
        },
        {
          "output_type": "display_data",
          "data": {
            "image/png": "[encoded data removed]",
            "text/plain": [
              "<Figure size 432x288 with 1 Axes>"
            ]
          },
          "metadata": {
            "tags": [],
            "needs_background": "light"
          }
        }
      ]
    },
    {
      "cell_type": "code",
      "metadata": {
        "id": "_CPUE0rb7MW9",
        "colab": {
          "base_uri": "https://localhost:8080/",
          "height": 312
        },
        "outputId": "ad871843-c51f-4b29-a530-968a97da0e7a"
      },
      "source": [
        "# Trying different solvers on Logistic Regression\n",
        "lg1 = LogisticRegression(solver='liblinear', random_state=0)\n",
        "lg_scores1 = cross_val_score(lg1, train_x, train_labels, cv=10)\n",
        "\n",
        "lg2 = LogisticRegression(solver='lbfgs', random_state=0)\n",
        "lg_scores2 = cross_val_score(lg2, train_x, train_labels, cv=10)\n",
        "\n",
        "lg3 = LogisticRegression(solver='saga', random_state=0)\n",
        "lg_scores3 = cross_val_score(lg3, train_x, train_labels, cv=10)\n",
        "\n",
        "lg4 = LogisticRegression(solver='sag', random_state=0)\n",
        "lg_scores4 = cross_val_score(lg4, train_x, train_labels, cv=10)\n",
        "\n",
        "lg5 = LogisticRegression(solver='newton-cg', random_state=0)\n",
        "lg_scores5 = cross_val_score(lg5, train_x, train_labels, cv=10)\n",
        "\n",
        "data_lg = np.array([lg_scores1, lg_scores2, lg_scores3, lg_scores4, lg_scores5])\n",
        "data_lg = data_lg.T\n",
        "df = pd.DataFrame(data_lg, columns=['liblinear', 'lbfgs', 'saga', 'sag', 'newton-cg'])\n",
        "ax = df.plot.box(title='Accuracies of the LR model with Different Solvers', showmeans=True)\n",
        "ax.set_xlabel('Solvers')\n",
        "ax.set_ylabel('Accuracies')"
      ],
      "execution_count": 66,
      "outputs": [
        {
          "output_type": "execute_result",
          "data": {
            "text/plain": [
              "Text(0, 0.5, 'Accuracies')"
            ]
          },
          "metadata": {
            "tags": []
          },
          "execution_count": 66
        },
        {
          "output_type": "display_data",
          "data": {
            "image/png": "[encoded data removed]",
            "text/plain": [
              "<Figure size 432x288 with 1 Axes>"
            ]
          },
          "metadata": {
            "tags": [],
            "needs_background": "light"
          }
        }
      ]
    },
    {
      "cell_type": "code",
      "metadata": {
        "colab": {
          "base_uri": "https://localhost:8080/"
        },
        "id": "Bk6tQo8l9xEK",
        "outputId": "34d53f33-b35a-4c84-841b-9057b4898573"
      },
      "source": [
        "# Print the mean accuracies of all settings for all models\n",
        "print(f\"svm - 1: {np.mean(svm_scores1)}, 2: {np.mean(svm_scores2)}, 3: {np.mean(svm_scores3)}, 4: {np.mean(svm_scores4)}, 5: {np.mean(svm_scores5)}\")\n",
        "print(f\"mlp - 1: {np.mean(mlp_scores1)}, 2: {np.mean(mlp_scores2)}, 3: {np.mean(mlp_scores3)}, 4: {np.mean(mlp_scores4)}, 5: {np.mean(mlp_scores5)}\")\n",
        "print(f\"rf - 1: {np.mean(rf_scores1)}, 2: {np.mean(rf_scores2)}, 3: {np.mean(rf_scores3)}, 4: {np.mean(rf_scores4)}, 5: {np.mean(rf_scores5)}\")\n",
        "print(f\"lr - 1: {np.mean(lg_scores1)}, 2: {np.mean(lg_scores2)}, 3: {np.mean(lg_scores3)}, 4: {np.mean(lg_scores4)}, 5: {np.mean(lg_scores5)}\")"
      ],
      "execution_count": 60,
      "outputs": [
        {
          "output_type": "stream",
          "text": [
            "svm - 1: 0.5479951332241625, 2: 0.7421764282762738, 3: 0.7449403896481537, 4: 0.7076123720175694, 5: 0.6852030118914618\n",
            "mlp - 1: 0.6639004149377593, 2: 0.6658367911479944, 3: 0.6658367911479944, 4: 0.6658367911479944, 5: 0.6658367911479944\n",
            "rf - 1: 0.7205996235135672, 2: 0.7200570851379685, 3: 0.7206057452441805, 4: 0.7286275079965107, 5: 0.7231026461180575\n",
            "lr - 1: 0.7319539033684823, 2: 0.7325079199889808, 3: 0.7319539033684823, 4: 0.7319539033684823, 5: 0.7325079199889808\n"
          ],
          "name": "stdout"
        }
      ]
    },
    {
      "cell_type": "code",
      "metadata": {
        "colab": {
          "base_uri": "https://localhost:8080/",
          "height": 366
        },
        "id": "v_6xaWVe1jYg",
        "outputId": "656ffb3c-58bc-418f-bdc0-801c480ebfe8"
      },
      "source": [
        "# Plotting the accuracy of the best performing setting of each model\n",
        "data = [mlp_scores5, rf_scores4, lg_scores5, svm_scores3]\n",
        "df = pd.DataFrame(data).transpose()\n",
        "df.columns = ['MLP', 'RF', 'LR', 'SVM']\n",
        "ax = df.plot.box(grid='True', title='The Best Accuracies of Each Model', showmeans=True)\n",
        "ax.set_xlabel('Models')\n",
        "ax.set_ylabel('Accuracies')"
      ],
      "execution_count": 86,
      "outputs": [
        {
          "output_type": "stream",
          "text": [
            "/usr/local/lib/python3.7/dist-packages/numpy/core/_asarray.py:83: VisibleDeprecationWarning: Creating an ndarray from ragged nested sequences (which is a list-or-tuple of lists-or-tuples-or ndarrays with different lengths or shapes) is deprecated. If you meant to do this, you must specify 'dtype=object' when creating the ndarray\n",
            "  return array(a, dtype, copy=False, order=order)\n"
          ],
          "name": "stderr"
        },
        {
          "output_type": "execute_result",
          "data": {
            "text/plain": [
              "Text(0, 0.5, 'Accuracies')"
            ]
          },
          "metadata": {
            "tags": []
          },
          "execution_count": 86
        },
        {
          "output_type": "display_data",
          "data": {
            "image/png": "[encoded data removed]",
            "text/plain": [
              "<Figure size 432x288 with 1 Axes>"
            ]
          },
          "metadata": {
            "tags": [],
            "needs_background": "light"
          }
        }
      ]
    },
    {
      "cell_type": "markdown",
      "metadata": {
        "id": "6yaRCdmcWjNf"
      },
      "source": [
        "# Prediction"
      ]
    },
    {
      "cell_type": "code",
      "metadata": {
        "id": "GiegG47aWlwk"
      },
      "source": [
        "# Predict the labels of the test data using SVM\n",
        "svm = SVC(kernel='rbf', C=1)\n",
        "svm.fit(train_x, train_labels)\n",
        "test_y_svm = svm.predict(test_x)"
      ],
      "execution_count": 87,
      "outputs": []
    },
    {
      "cell_type": "code",
      "metadata": {
        "id": "MjPhTkvddx8x"
      },
      "source": [
        "df1 = pd.DataFrame({'prediction': test_y_svm})"
      ],
      "execution_count": 88,
      "outputs": []
    },
    {
      "cell_type": "code",
      "metadata": {
        "colab": {
          "base_uri": "https://localhost:8080/",
          "height": 402
        },
        "id": "bVP9As_KG5cY",
        "outputId": "60d30339-90fb-4819-cff2-a4c0d6d67a5c"
      },
      "source": [
        "df1"
      ],
      "execution_count": 89,
      "outputs": [
        {
          "output_type": "execute_result",
          "data": {
            "text/html": [
              "<div>\n",
              "<style scoped>\n",
              "    .dataframe tbody tr th:only-of-type {\n",
              "        vertical-align: middle;\n",
              "    }\n",
              "\n",
              "    .dataframe tbody tr th {\n",
              "        vertical-align: top;\n",
              "    }\n",
              "\n",
              "    .dataframe thead th {\n",
              "        text-align: right;\n",
              "    }\n",
              "</style>\n",
              "<table border=\"1\" class=\"dataframe\">\n",
              "  <thead>\n",
              "    <tr style=\"text-align: right;\">\n",
              "      <th></th>\n",
              "      <th>prediction</th>\n",
              "    </tr>\n",
              "  </thead>\n",
              "  <tbody>\n",
              "    <tr>\n",
              "      <th>0</th>\n",
              "      <td>1.0</td>\n",
              "    </tr>\n",
              "    <tr>\n",
              "      <th>1</th>\n",
              "      <td>0.0</td>\n",
              "    </tr>\n",
              "    <tr>\n",
              "      <th>2</th>\n",
              "      <td>1.0</td>\n",
              "    </tr>\n",
              "    <tr>\n",
              "      <th>3</th>\n",
              "      <td>0.0</td>\n",
              "    </tr>\n",
              "    <tr>\n",
              "      <th>4</th>\n",
              "      <td>1.0</td>\n",
              "    </tr>\n",
              "    <tr>\n",
              "      <th>...</th>\n",
              "      <td>...</td>\n",
              "    </tr>\n",
              "    <tr>\n",
              "      <th>2162</th>\n",
              "      <td>0.0</td>\n",
              "    </tr>\n",
              "    <tr>\n",
              "      <th>2163</th>\n",
              "      <td>0.0</td>\n",
              "    </tr>\n",
              "    <tr>\n",
              "      <th>2164</th>\n",
              "      <td>0.0</td>\n",
              "    </tr>\n",
              "    <tr>\n",
              "      <th>2165</th>\n",
              "      <td>1.0</td>\n",
              "    </tr>\n",
              "    <tr>\n",
              "      <th>2166</th>\n",
              "      <td>0.0</td>\n",
              "    </tr>\n",
              "  </tbody>\n",
              "</table>\n",
              "<p>2167 rows × 1 columns</p>\n",
              "</div>"
            ],
            "text/plain": [
              "      prediction\n",
              "0            1.0\n",
              "1            0.0\n",
              "2            1.0\n",
              "3            0.0\n",
              "4            1.0\n",
              "...          ...\n",
              "2162         0.0\n",
              "2163         0.0\n",
              "2164         0.0\n",
              "2165         1.0\n",
              "2166         0.0\n",
              "\n",
              "[2167 rows x 1 columns]"
            ]
          },
          "metadata": {
            "tags": []
          },
          "execution_count": 89
        }
      ]
    },
    {
      "cell_type": "code",
      "metadata": {
        "id": "yVTAK5_yJOie"
      },
      "source": [
        "# Make the results a csv file and zip out\n",
        "compression_opts = dict(method='zip', archive_name='test_results.csv') \n",
        "df1.to_csv('test_results.zip', index=False, compression=compression_opts)"
      ],
      "execution_count": 90,
      "outputs": []
    }
  ]
}